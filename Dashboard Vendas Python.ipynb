{
 "cells": [
  {
   "cell_type": "code",
   "execution_count": null,
   "id": "9d24f6ab",
   "metadata": {},
   "outputs": [
    {
     "name": "stdout",
     "output_type": "stream",
     "text": [
      "Dash is running on http://127.0.0.1:8050/\n",
      "\n",
      " * Serving Flask app \"__main__\" (lazy loading)\n",
      " * Environment: production\n",
      "\u001b[31m   WARNING: This is a development server. Do not use it in a production deployment.\u001b[0m\n",
      "\u001b[2m   Use a production WSGI server instead.\u001b[0m\n",
      " * Debug mode: off\n"
     ]
    },
    {
     "name": "stderr",
     "output_type": "stream",
     "text": [
      " * Running on http://127.0.0.1:8050/ (Press CTRL+C to quit)\n"
     ]
    }
   ],
   "source": [
    "from dash import Dash, html, dcc\n",
    "import plotly.express as px\n",
    "import pandas as pd\n",
    "\n",
    "\n",
    "app = Dash(__name__) # criando o seu aplicativo Dash\n",
    "\n",
    "\n",
    "# assume you have a \"long-form\" data frame\n",
    "# see https://plotly.com/python/px-arguments/ for more options\n",
    "df = pd.read_excel(\"Vendas.xlsx\")\n",
    "\n",
    "# df = tabela = dataframe\n",
    "\n",
    "# plotly\n",
    "fig = px.bar(df, x=\"Produto\", y=\"Quantidade\", color=\"ID Loja\", barmode=\"group\")\n",
    "\n",
    "\n",
    "# css\n",
    "app.layout = html.Div(children=[\n",
    "    html.H1(children='Meu Dashboard'),\n",
    "\n",
    "    html.Div(children='''\n",
    "        Dashboard de Vendas em Python\n",
    "    '''),\n",
    "    \n",
    "    html.H3(children=\"Vendas de cada Produto por Loja\"),\n",
    "    \n",
    "    dcc.Graph(id='vendas_por_loja',figure=fig),\n",
    "    \n",
    "    \n",
    "], style={\"text-align\": \"center\"})\n",
    "\n",
    "# callbacks\n",
    "\n",
    "\n",
    "# colocando o seu site (seu dashboard) no ar\n",
    "if __name__ == '__main__':\n",
    "    app.run_server(debug=False)"
   ]
  }
 ],
 "metadata": {
  "kernelspec": {
   "display_name": "Python 3 (ipykernel)",
   "language": "python",
   "name": "python3"
  },
  "language_info": {
   "codemirror_mode": {
    "name": "ipython",
    "version": 3
   },
   "file_extension": ".py",
   "mimetype": "text/x-python",
   "name": "python",
   "nbconvert_exporter": "python",
   "pygments_lexer": "ipython3",
   "version": "3.9.13"
  }
 },
 "nbformat": 4,
 "nbformat_minor": 5
}
